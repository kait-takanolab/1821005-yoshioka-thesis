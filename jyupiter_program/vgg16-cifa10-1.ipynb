{
 "cells": [
  {
   "cell_type": "code",
   "execution_count": 1,
   "id": "42ec5721",
   "metadata": {},
   "outputs": [
    {
     "name": "stderr",
     "output_type": "stream",
     "text": [
      "Using TensorFlow backend.\n",
      "C:\\Users\\1821005\\Anaconda3\\envs\\sotuken\\lib\\site-packages\\tensorflow\\python\\framework\\dtypes.py:516: FutureWarning: Passing (type, 1) or '1type' as a synonym of type is deprecated; in a future version of numpy, it will be understood as (type, (1,)) / '(1,)type'.\n",
      "  _np_qint8 = np.dtype([(\"qint8\", np.int8, 1)])\n",
      "C:\\Users\\1821005\\Anaconda3\\envs\\sotuken\\lib\\site-packages\\tensorflow\\python\\framework\\dtypes.py:517: FutureWarning: Passing (type, 1) or '1type' as a synonym of type is deprecated; in a future version of numpy, it will be understood as (type, (1,)) / '(1,)type'.\n",
      "  _np_quint8 = np.dtype([(\"quint8\", np.uint8, 1)])\n",
      "C:\\Users\\1821005\\Anaconda3\\envs\\sotuken\\lib\\site-packages\\tensorflow\\python\\framework\\dtypes.py:518: FutureWarning: Passing (type, 1) or '1type' as a synonym of type is deprecated; in a future version of numpy, it will be understood as (type, (1,)) / '(1,)type'.\n",
      "  _np_qint16 = np.dtype([(\"qint16\", np.int16, 1)])\n",
      "C:\\Users\\1821005\\Anaconda3\\envs\\sotuken\\lib\\site-packages\\tensorflow\\python\\framework\\dtypes.py:519: FutureWarning: Passing (type, 1) or '1type' as a synonym of type is deprecated; in a future version of numpy, it will be understood as (type, (1,)) / '(1,)type'.\n",
      "  _np_quint16 = np.dtype([(\"quint16\", np.uint16, 1)])\n",
      "C:\\Users\\1821005\\Anaconda3\\envs\\sotuken\\lib\\site-packages\\tensorflow\\python\\framework\\dtypes.py:520: FutureWarning: Passing (type, 1) or '1type' as a synonym of type is deprecated; in a future version of numpy, it will be understood as (type, (1,)) / '(1,)type'.\n",
      "  _np_qint32 = np.dtype([(\"qint32\", np.int32, 1)])\n",
      "C:\\Users\\1821005\\Anaconda3\\envs\\sotuken\\lib\\site-packages\\tensorflow\\python\\framework\\dtypes.py:525: FutureWarning: Passing (type, 1) or '1type' as a synonym of type is deprecated; in a future version of numpy, it will be understood as (type, (1,)) / '(1,)type'.\n",
      "  np_resource = np.dtype([(\"resource\", np.ubyte, 1)])\n"
     ]
    },
    {
     "data": {
      "text/plain": [
       "'2.3.1'"
      ]
     },
     "execution_count": 1,
     "metadata": {},
     "output_type": "execute_result"
    }
   ],
   "source": [
    "import keras\n",
    "keras.__version__"
   ]
  },
  {
   "cell_type": "code",
   "execution_count": 4,
   "id": "bbf6d1ab",
   "metadata": {},
   "outputs": [
    {
     "name": "stdout",
     "output_type": "stream",
     "text": [
      "WARNING:tensorflow:From C:\\Users\\1821005\\Anaconda3\\envs\\sotuken\\lib\\site-packages\\keras\\backend\\tensorflow_backend.py:4070: The name tf.nn.max_pool is deprecated. Please use tf.nn.max_pool2d instead.\n",
      "\n",
      "Model: \"sequential_3\"\n",
      "_________________________________________________________________\n",
      "Layer (type)                 Output Shape              Param #   \n",
      "=================================================================\n",
      "vgg16 (Model)                (None, 7, 7, 512)         14714688  \n",
      "_________________________________________________________________\n",
      "flatten_3 (Flatten)          (None, 25088)             0         \n",
      "=================================================================\n",
      "Total params: 14,714,688\n",
      "Trainable params: 14,714,688\n",
      "Non-trainable params: 0\n",
      "_________________________________________________________________\n"
     ]
    },
    {
     "name": "stderr",
     "output_type": "stream",
     "text": [
      "C:\\Users\\1821005\\Anaconda3\\envs\\sotuken\\lib\\site-packages\\keras\\engine\\saving.py:341: UserWarning: No training configuration found in save file: the model was *not* compiled. Compile it manually.\n",
      "  warnings.warn('No training configuration found in save file: '\n"
     ]
    }
   ],
   "source": [
    "from keras.models import load_model\n",
    "\n",
    "model = load_model('vgg16_predict_flatten.h5')\n",
    "model.summary()  # As a reminder."
   ]
  },
  {
   "cell_type": "code",
   "execution_count": 10,
   "id": "c7671b8a",
   "metadata": {},
   "outputs": [
    {
     "data": {
      "text/plain": [
       "'\\nimport os\\nfiles = os.listdir(\"Desktop/myFolder\")\\nmyfile = \\'filename.txt\\'\\n\\nfor filename in files:\\n    if filename == myfile:\\n        continue\\n'"
      ]
     },
     "execution_count": 10,
     "metadata": {},
     "output_type": "execute_result"
    }
   ],
   "source": [
    "\"\"\"\n",
    "import os\n",
    "files = os.listdir(\"Desktop/myFolder\")\n",
    "myfile = 'filename.txt'\n",
    "\n",
    "for filename in files:\n",
    "    if filename == myfile:\n",
    "        continue\n",
    "\"\"\""
   ]
  },
  {
   "cell_type": "code",
   "execution_count": 43,
   "id": "71689536",
   "metadata": {},
   "outputs": [],
   "source": [
    "#vgg16モデルに合わせて入力画像を前処理\n",
    "from keras.preprocessing import image\n",
    "from keras.applications.vgg16 import preprocess_input, decode_predictions\n",
    "import numpy as np\n",
    "\n",
    "img_path_1 = \"C:/Users/1821005/Downloads/imagedb/images/test_00003.png\"\n",
    "img_path_2 = \"C:/Users/1821005/Downloads/imagedb/images/test_00010.png\"\n",
    "img_path_3 = \"C:/Users/1821005/Downloads/imagedb/images/test_00021.png\"\n",
    "img_path_4 = \"C:/Users/1821005/Downloads/imagedb/images/test_00027.png\"\n",
    "img_path_5 = \"C:/Users/1821005/Downloads/imagedb/images/test_00044.png\"\n",
    "img_path_6 = \"C:/Users/1821005/Downloads/imagedb/images/test_00052.png\"\n",
    "#ターゲット(画像)へのローカルパス\n",
    "\n",
    "        \n",
    "#画像を読み込む　:imgはサイズが224*224のPIL画像(Pythonで画像を処理するためのライブラリ)\n",
    "img = image.load_img(img_path_1, target_size=(224,224))\n",
    "img2 = image.load_img(img_path_2, target_size=(224,224))\n",
    "img3 = image.load_img(img_path_3, target_size=(224,224))\n",
    "img4 = image.load_img(img_path_4, target_size=(224,224))\n",
    "img5 = image.load_img(img_path_5, target_size=(224,224))\n",
    "img6 = image.load_img(img_path_6, target_size=(224,224))\n",
    "\n",
    "\n",
    "\n",
    "#xは形状が(224,224，3)のfloat32型のNumPy配列\n",
    "a = image.img_to_array(img)\n",
    "b = image.img_to_array(img2)\n",
    "c = image.img_to_array(img3)\n",
    "d = image.img_to_array(img4)\n",
    "e = image.img_to_array(img5)\n",
    "f = image.img_to_array(img6)\n",
    "\n",
    "#この配列がサイズが(1,224,224,3)のバッチに変換するために次元を追加\n",
    "a = np.expand_dims(a, axis=0)\n",
    "b = np.expand_dims(b, axis=0)\n",
    "c = np.expand_dims(c, axis=0)\n",
    "d = np.expand_dims(d, axis=0)\n",
    "e = np.expand_dims(e, axis=0)\n",
    "f = np.expand_dims(f, axis=0)\n",
    "\n",
    "#バッチの前処理(チャンネルごとに色を正規化）\n",
    "a = preprocess_input(a)\n",
    "b = preprocess_input(b)\n",
    "c = preprocess_input(c)\n",
    "d = preprocess_input(d)\n",
    "e = preprocess_input(e)\n",
    "f = preprocess_input(f)\n",
    "\n",
    "#予測ベクトルを人が読める形にデコード\n",
    "preds = model.predict(a)\n",
    "preds1 = model.predict(b)\n",
    "preds2 = model.predict(c)\n",
    "preds3 = model.predict(d)\n",
    "preds4 = model.predict(e)\n",
    "preds5 = model.predict(f)"
   ]
  },
  {
   "cell_type": "code",
   "execution_count": 44,
   "id": "b79347ae",
   "metadata": {},
   "outputs": [
    {
     "data": {
      "text/plain": [
       "(1, 25088)"
      ]
     },
     "execution_count": 44,
     "metadata": {},
     "output_type": "execute_result"
    }
   ],
   "source": [
    "preds.shape"
   ]
  },
  {
   "cell_type": "code",
   "execution_count": 45,
   "id": "18cc8ee3",
   "metadata": {},
   "outputs": [
    {
     "data": {
      "text/plain": [
       "array([[0., 0., 0., ..., 0., 0., 0.]], dtype=float32)"
      ]
     },
     "execution_count": 45,
     "metadata": {},
     "output_type": "execute_result"
    }
   ],
   "source": [
    "preds\n",
    "preds1\n",
    "preds2\n",
    "preds3\n",
    "preds4\n",
    "preds5"
   ]
  },
  {
   "cell_type": "code",
   "execution_count": 51,
   "id": "9240a3e6",
   "metadata": {},
   "outputs": [
    {
     "data": {
      "text/plain": [
       "array([[0., 0., 0., ..., 0., 0., 0.]], dtype=float32)"
      ]
     },
     "execution_count": 51,
     "metadata": {},
     "output_type": "execute_result"
    }
   ],
   "source": [
    "preds5"
   ]
  },
  {
   "cell_type": "code",
   "execution_count": 47,
   "id": "4c0a066a",
   "metadata": {},
   "outputs": [
    {
     "data": {
      "text/plain": [
       "array([[0., 0., 0., ..., 0., 0., 0.]], dtype=float32)"
      ]
     },
     "execution_count": 47,
     "metadata": {},
     "output_type": "execute_result"
    }
   ],
   "source": [
    "preds2"
   ]
  },
  {
   "cell_type": "code",
   "execution_count": null,
   "id": "8b2e4827",
   "metadata": {},
   "outputs": [],
   "source": []
  }
 ],
 "metadata": {
  "kernelspec": {
   "display_name": "Python 3 (ipykernel)",
   "language": "python",
   "name": "python3"
  },
  "language_info": {
   "codemirror_mode": {
    "name": "ipython",
    "version": 3
   },
   "file_extension": ".py",
   "mimetype": "text/x-python",
   "name": "python",
   "nbconvert_exporter": "python",
   "pygments_lexer": "ipython3",
   "version": "3.7.11"
  }
 },
 "nbformat": 4,
 "nbformat_minor": 5
}
